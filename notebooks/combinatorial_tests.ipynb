{
 "cells": [
  {
   "cell_type": "code",
   "execution_count": 4,
   "metadata": {
    "ExecuteTime": {
     "end_time": "2019-05-03T06:30:31.912321Z",
     "start_time": "2019-05-03T06:30:31.909212Z"
    }
   },
   "outputs": [],
   "source": [
    "import sys\n",
    "sys.path.append('../src/')\n",
    "import numpy as np\n",
    "import matplotlib.pyplot as plt\n",
    "import matplotlib.colors as colors\n",
    "import json\n",
    "import scipy\n",
    "from antenna import Antenna\n",
    "import itertools"
   ]
  },
  {
   "cell_type": "code",
   "execution_count": 5,
   "metadata": {
    "ExecuteTime": {
     "end_time": "2019-05-03T06:30:32.168990Z",
     "start_time": "2019-05-03T06:30:32.165738Z"
    }
   },
   "outputs": [],
   "source": [
    "with open(\"../config.json\", 'r') as cfg:\n",
    "    params = json.load(cfg)\n",
    "\n",
    "antenna_params = params[\"antenna_params\"]\n",
    "opt_params = params[\"optimisation_params\"]"
   ]
  },
  {
   "cell_type": "code",
   "execution_count": 6,
   "metadata": {
    "ExecuteTime": {
     "end_time": "2019-05-03T06:30:32.492493Z",
     "start_time": "2019-05-03T06:30:32.476097Z"
    }
   },
   "outputs": [],
   "source": [
    "antenna = Antenna(antenna_params)"
   ]
  },
  {
   "cell_type": "code",
   "execution_count": 7,
   "metadata": {
    "ExecuteTime": {
     "end_time": "2019-05-03T06:30:32.883916Z",
     "start_time": "2019-05-03T06:30:32.881242Z"
    }
   },
   "outputs": [],
   "source": [
    "antenna.set_objective(weights=[1.0, 1.0])\n",
    "antenna.set_jacobian(weights=[1.0, 1.0])\n",
    "antenna.set_hessian(weights=[1.0, 1.0])"
   ]
  },
  {
   "cell_type": "code",
   "execution_count": 30,
   "metadata": {
    "ExecuteTime": {
     "end_time": "2019-05-03T06:43:11.578168Z",
     "start_time": "2019-05-03T06:43:11.575712Z"
    }
   },
   "outputs": [],
   "source": [
    "A_i = antenna.afs[0]"
   ]
  },
  {
   "cell_type": "code",
   "execution_count": 42,
   "metadata": {
    "ExecuteTime": {
     "end_time": "2019-05-03T06:46:18.784396Z",
     "start_time": "2019-05-03T06:46:18.781518Z"
    }
   },
   "outputs": [],
   "source": [
    "Q_k = np.real(A_i[30, :].reshape(1, -1).conj().T @ A_i[30, :].reshape(1, -1))"
   ]
  },
  {
   "cell_type": "code",
   "execution_count": 43,
   "metadata": {
    "ExecuteTime": {
     "end_time": "2019-05-03T06:46:20.046929Z",
     "start_time": "2019-05-03T06:46:20.042161Z"
    }
   },
   "outputs": [
    {
     "data": {
      "text/plain": [
       "array([[ 1.        , -0.9127242 ,  0.66613092, -0.30326343, -0.11253919,\n",
       "         0.5086979 , -0.81606259,  0.98098224, -0.97466986,  0.7982273 ],\n",
       "       [-0.9127242 ,  1.        , -0.9127242 ,  0.66613092, -0.30326343,\n",
       "        -0.11253919,  0.5086979 , -0.81606259,  0.98098224, -0.97466986],\n",
       "       [ 0.66613092, -0.9127242 ,  1.        , -0.9127242 ,  0.66613092,\n",
       "        -0.30326343, -0.11253919,  0.5086979 , -0.81606259,  0.98098224],\n",
       "       [-0.30326343,  0.66613092, -0.9127242 ,  1.        , -0.9127242 ,\n",
       "         0.66613092, -0.30326343, -0.11253919,  0.5086979 , -0.81606259],\n",
       "       [-0.11253919, -0.30326343,  0.66613092, -0.9127242 ,  1.        ,\n",
       "        -0.9127242 ,  0.66613092, -0.30326343, -0.11253919,  0.5086979 ],\n",
       "       [ 0.5086979 , -0.11253919, -0.30326343,  0.66613092, -0.9127242 ,\n",
       "         1.        , -0.9127242 ,  0.66613092, -0.30326343, -0.11253919],\n",
       "       [-0.81606259,  0.5086979 , -0.11253919, -0.30326343,  0.66613092,\n",
       "        -0.9127242 ,  1.        , -0.9127242 ,  0.66613092, -0.30326343],\n",
       "       [ 0.98098224, -0.81606259,  0.5086979 , -0.11253919, -0.30326343,\n",
       "         0.66613092, -0.9127242 ,  1.        , -0.9127242 ,  0.66613092],\n",
       "       [-0.97466986,  0.98098224, -0.81606259,  0.5086979 , -0.11253919,\n",
       "        -0.30326343,  0.66613092, -0.9127242 ,  1.        , -0.9127242 ],\n",
       "       [ 0.7982273 , -0.97466986,  0.98098224, -0.81606259,  0.5086979 ,\n",
       "        -0.11253919, -0.30326343,  0.66613092, -0.9127242 ,  1.        ]])"
      ]
     },
     "execution_count": 43,
     "metadata": {},
     "output_type": "execute_result"
    }
   ],
   "source": [
    "Q_k"
   ]
  },
  {
   "cell_type": "code",
   "execution_count": 47,
   "metadata": {
    "ExecuteTime": {
     "end_time": "2019-05-03T06:47:49.543541Z",
     "start_time": "2019-05-03T06:47:49.372142Z"
    }
   },
   "outputs": [
    {
     "data": {
      "image/png": "[encoded data removed]",
      "text/plain": [
       "<Figure size 360x360 with 2 Axes>"
      ]
     },
     "metadata": {
      "needs_background": "light"
     },
     "output_type": "display_data"
    }
   ],
   "source": [
    "plt.figure(figsize=(5, 5))\n",
    "plt.imshow(Q_k, interpolation='nearest', cmap=plt.cm.ocean, extent=(0.5,10.5,0.5,10.5))\n",
    "plt.colorbar()\n",
    "plt.show()\n"
   ]
  },
  {
   "cell_type": "code",
   "execution_count": 34,
   "metadata": {
    "ExecuteTime": {
     "end_time": "2019-05-03T06:43:48.811715Z",
     "start_time": "2019-05-03T06:43:48.808652Z"
    }
   },
   "outputs": [],
   "source": [
    "Q_k[:, 1] = 0\n",
    "Q_k[1, :] = 0\n",
    "\n",
    "Q_k[:, 5] = 0\n",
    "Q_k[5, :] = 0\n",
    "\n",
    "Q_k[:, 9] = 0\n",
    "Q_k[9, :] = 0"
   ]
  },
  {
   "cell_type": "code",
   "execution_count": 35,
   "metadata": {
    "ExecuteTime": {
     "end_time": "2019-05-03T06:43:51.198652Z",
     "start_time": "2019-05-03T06:43:51.021565Z"
    }
   },
   "outputs": [
    {
     "data": {
      "image/png": "[encoded data removed]",
      "text/plain": [
       "<Figure size 432x288 with 2 Axes>"
      ]
     },
     "metadata": {
      "needs_background": "light"
     },
     "output_type": "display_data"
    }
   ],
   "source": [
    "plt.imshow(Q_k, interpolation='nearest', cmap=plt.cm.ocean, extent=(0.5,10.5,0.5,10.5))\n",
    "plt.colorbar()\n",
    "plt.show()"
   ]
  },
  {
   "cell_type": "code",
   "execution_count": 36,
   "metadata": {
    "ExecuteTime": {
     "end_time": "2019-05-03T06:44:10.241520Z",
     "start_time": "2019-05-03T06:44:10.237318Z"
    }
   },
   "outputs": [
    {
     "data": {
      "text/plain": [
       "2"
      ]
     },
     "execution_count": 36,
     "metadata": {},
     "output_type": "execute_result"
    }
   ],
   "source": [
    "np.linalg.matrix_rank(Q_k)"
   ]
  },
  {
   "cell_type": "code",
   "execution_count": null,
   "metadata": {
    "scrolled": true
   },
   "outputs": [],
   "source": [
    "optI, _, _ = antenna.get_optimal_current_allocation(opt_params)"
   ]
  },
  {
   "cell_type": "code",
   "execution_count": null,
   "metadata": {},
   "outputs": [],
   "source": [
    "antenna.plot_current_distribution()"
   ]
  },
  {
   "cell_type": "code",
   "execution_count": null,
   "metadata": {},
   "outputs": [],
   "source": [
    "optI"
   ]
  },
  {
   "cell_type": "code",
   "execution_count": null,
   "metadata": {},
   "outputs": [],
   "source": [
    "configurations = list(itertools.product(np.arange(antenna.n_currents), repeat=antenna.N))\n",
    "configurations = [(0, 1, 1, 0, 0, 1, 1, 1, 0, 1)]\n",
    "for conf in configurations:\n",
    "    temp = np.zeros_like(optI)\n",
    "    for i, elem in enumerate(conf):\n",
    "        temp[elem, i] = True\n",
    "    optI = optI * temp"
   ]
  },
  {
   "cell_type": "code",
   "execution_count": null,
   "metadata": {},
   "outputs": [],
   "source": [
    "optI[optI == 0] = -np.inf"
   ]
  },
  {
   "cell_type": "code",
   "execution_count": null,
   "metadata": {},
   "outputs": [],
   "source": [
    "optI"
   ]
  },
  {
   "cell_type": "code",
   "execution_count": null,
   "metadata": {},
   "outputs": [],
   "source": [
    "def set_currents(listJ, conf):\n",
    "    J_mtx = np.array(listJ)\n",
    "    temp = np.zeros_like(J_mtx)\n",
    "    for i, elem in enumerate(conf):\n",
    "        temp[elem, i] = True\n",
    "    J_mtx = J_mtx * temp\n",
    "    J_mtx[J_mtx == 0] = -np.inf\n",
    "    return J_mtx"
   ]
  },
  {
   "cell_type": "code",
   "execution_count": null,
   "metadata": {},
   "outputs": [],
   "source": [
    "set_currents(optI, (0, 1, 1, 0, 0, 1, 1, 1, 0, 1))"
   ]
  },
  {
   "cell_type": "code",
   "execution_count": null,
   "metadata": {},
   "outputs": [],
   "source": [
    "optI"
   ]
  }
 ],
 "metadata": {
  "kernelspec": {
   "display_name": "Python 3",
   "language": "python",
   "name": "python3"
  },
  "language_info": {
   "codemirror_mode": {
    "name": "ipython",
    "version": 3
   },
   "file_extension": ".py",
   "mimetype": "text/x-python",
   "name": "python",
   "nbconvert_exporter": "python",
   "pygments_lexer": "ipython3",
   "version": "3.6.8"
  }
 },
 "nbformat": 4,
 "nbformat_minor": 2
}
