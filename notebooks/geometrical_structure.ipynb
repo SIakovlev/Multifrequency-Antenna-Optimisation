{
 "cells": [
  {
   "cell_type": "code",
   "execution_count": 1,
   "metadata": {
    "ExecuteTime": {
     "end_time": "2019-05-04T08:00:04.528866Z",
     "start_time": "2019-05-04T08:00:04.208314Z"
    }
   },
   "outputs": [],
   "source": [
    "import sys\n",
    "sys.path.append('../src/')\n",
    "import numpy as np\n",
    "import matplotlib.pyplot as plt\n",
    "import matplotlib.colors as colors\n",
    "import json\n",
    "import scipy\n",
    "from antenna import Antenna\n",
    "import itertools\n",
    "from tqdm import tqdm"
   ]
  },
  {
   "cell_type": "code",
   "execution_count": 2,
   "metadata": {
    "ExecuteTime": {
     "end_time": "2019-05-04T08:00:04.566934Z",
     "start_time": "2019-05-04T08:00:04.564041Z"
    }
   },
   "outputs": [],
   "source": [
    "with open(\"../config.json\", 'r') as cfg:\n",
    "    params = json.load(cfg)\n",
    "\n",
    "antenna_params = params[\"antenna_params\"]\n",
    "opt_params = params[\"optimisation_params\"]"
   ]
  },
  {
   "cell_type": "code",
   "execution_count": 144,
   "metadata": {
    "ExecuteTime": {
     "end_time": "2019-05-04T08:00:04.906409Z",
     "start_time": "2019-05-04T08:00:04.903681Z"
    }
   },
   "outputs": [],
   "source": [
    "antenna_params['N'] = 100"
   ]
  },
  {
   "cell_type": "code",
   "execution_count": 145,
   "metadata": {
    "ExecuteTime": {
     "end_time": "2019-05-04T08:05:11.551981Z",
     "start_time": "2019-05-04T08:05:11.534850Z"
    }
   },
   "outputs": [],
   "source": [
    "antenna_params[\"wavelengths\"]=[1, 2]\n",
    "antenna = Antenna(antenna_params)\n",
    "antenna.set_objective(weights=[1.0, 1.0])\n",
    "antenna.set_jacobian(weights=[1.0, 1.0])\n",
    "antenna.set_hessian(weights=[1.0, 1.0])"
   ]
  },
  {
   "cell_type": "code",
   "execution_count": 146,
   "metadata": {},
   "outputs": [
    {
     "data": {
      "text/plain": [
       "3.9606998738847275e-06"
      ]
     },
     "execution_count": 146,
     "metadata": {},
     "output_type": "execute_result"
    }
   ],
   "source": [
    "np.sqrt(abs(min(np.linalg.eigvals(antenna.afs[0].conj().T@antenna.afs[0])) * min(np.linalg.eigvals(antenna.afs[1].conj().T@antenna.afs[1]))))"
   ]
  },
  {
   "cell_type": "code",
   "execution_count": 163,
   "metadata": {
    "scrolled": true
   },
   "outputs": [
    {
     "data": {
      "text/plain": [
       "array([1638.20689606+2.17850644e-28j,  688.39887067-1.32528632e-28j,\n",
       "        532.38051931-7.60461913e-28j,  444.4784795 +4.44960971e-28j,\n",
       "        392.68057535+1.92523523e-28j,  354.35044045+1.04122051e-29j,\n",
       "        326.6938435 -2.65696534e-27j,  304.18035983-6.15301102e-28j,\n",
       "        286.42562874-1.47205249e-27j,  271.24871208-1.70073102e-27j,\n",
       "        258.66250821-1.84265081e-27j,  247.57919442-8.63702183e-27j,\n",
       "        238.08529405-8.99697023e-27j,  229.55658554-2.26496051e-27j,\n",
       "        222.08401502-6.70198917e-27j,  215.27452589-1.62092384e-27j,\n",
       "        209.20813566-1.38194795e-24j,  203.62050313-1.67611996e-20j,\n",
       "        198.57871522-5.17498519e-17j,  193.89608106-2.83724131e-14j,\n",
       "        189.62809906+2.51902594e-18j,  185.6378605 -1.52999888e-16j,\n",
       "        181.97122595+1.52951138e-16j,  178.52476241-2.80510933e-14j,\n",
       "        175.33650338-5.64239738e-16j,  172.326408  -2.81259300e-14j,\n",
       "        169.52618807+8.24569491e-17j,  166.87267288-2.79442292e-14j,\n",
       "        164.39245764-6.52644169e-17j,  162.03486346+5.65118260e-14j,\n",
       "        159.82232186+2.83485582e-14j,  157.71361296+2.81016199e-17j,\n",
       "        155.72775707+3.40656596e-17j,  153.83083547+4.01587163e-17j,\n",
       "        152.03905356+2.83173497e-14j,  150.32422264-2.25631163e-17j,\n",
       "        148.70020857-1.22563157e-20j,  147.14338536+1.53491267e-18j,\n",
       "        145.66566098+2.00871706e-18j,  144.24708942-4.12750666e-22j,\n",
       "        142.89792936+8.87499125e-18j,  141.60123664-4.57713604e-16j,\n",
       "        140.36587211+5.72967896e-19j,  139.17736514-2.56333287e-22j,\n",
       "        138.04338516-3.74633988e-24j,  136.9515182 +1.34729276e-26j,\n",
       "        135.90841285+5.70812066e-26j,  134.90337918+4.69706423e-26j,\n",
       "        133.94218686-1.54589426e-27j,  133.01560177+1.40805462e-26j,\n",
       "        132.12863356-2.42917119e-26j,  131.27328556+6.58036808e-26j,\n",
       "        130.45390757-4.52832887e-26j,  129.66356108-4.92018438e-26j,\n",
       "        128.90602099-3.84081519e-25j,  128.17525853-4.18599420e-23j,\n",
       "        127.47454604-3.51554209e-21j,  126.79864077-2.03055006e-19j,\n",
       "        126.15037457-1.94336558e-21j,  125.52518672+1.84238520e-16j,\n",
       "        124.92552207+1.32904257e-14j,  124.34741411+7.12850149e-17j,\n",
       "        123.79296696-1.72475924e-18j,  123.25873359+9.17420853e-18j,\n",
       "        122.74651776-9.13402209e-18j,  122.25332798+1.42866768e-21j,\n",
       "        121.7807029 +2.05398207e-17j,  121.3260516 +3.08875280e-19j,\n",
       "        120.89067866+1.39309843e-14j,  120.47234615-6.02303701e-16j,\n",
       "        120.07215198+5.59715096e-16j,  119.68816988-4.77549011e-16j,\n",
       "        119.32131547-4.61910450e-17j,  118.96993795-1.41851635e-14j,\n",
       "        118.63479245-1.76137123e-22j,  118.31447186-7.88648337e-20j,\n",
       "        118.0095904 +7.89969024e-20j,  117.7189566 -1.67033779e-20j,\n",
       "        117.18090418-1.22142490e-16j,  117.44306144+3.60768787e-16j,\n",
       "        116.93286867+3.21457930e-16j,  116.47695757+1.94525445e-18j,\n",
       "        116.26868972+1.40996947e-19j,  115.89093037+2.54485576e-26j,\n",
       "        115.72103214+1.69395032e-25j,  116.69812266+1.09996643e-25j,\n",
       "        115.41811993-1.65856363e-25j,  115.56339794-5.64822726e-26j,\n",
       "        115.28485817-1.46353773e-25j,  115.05427593-1.36461983e-25j,\n",
       "        114.59723754-1.20556113e-25j,  116.07353172-4.09168685e-26j,\n",
       "        114.61427942-9.89062548e-26j,  114.87080436-5.01546023e-25j,\n",
       "        115.16366171-8.39654311e-26j,  114.68252187+8.77478039e-26j,\n",
       "        114.64269611-2.07242524e-26j,  114.79653108-1.17978896e-25j,\n",
       "        114.73377601+3.22106569e-25j,  114.95671754-9.91922489e-26j])"
      ]
     },
     "execution_count": 163,
     "metadata": {},
     "output_type": "execute_result"
    }
   ],
   "source": [
    "np.linalg.eigvals(antenna.afs[0].conj().T@antenna.afs[0])"
   ]
  },
  {
   "cell_type": "code",
   "execution_count": 147,
   "metadata": {},
   "outputs": [],
   "source": [
    "A = scipy.linalg.block_diag(*antenna.afs)"
   ]
  },
  {
   "cell_type": "code",
   "execution_count": 148,
   "metadata": {},
   "outputs": [],
   "source": [
    "b = np.concatenate((antenna.beams))"
   ]
  },
  {
   "cell_type": "code",
   "execution_count": 149,
   "metadata": {},
   "outputs": [],
   "source": [
    "x = np.linalg.lstsq(A, b, rcond=None)"
   ]
  },
  {
   "cell_type": "code",
   "execution_count": 150,
   "metadata": {
    "scrolled": true
   },
   "outputs": [
    {
     "data": {
      "text/plain": [
       "[<matplotlib.lines.Line2D at 0x1a4c00af780>]"
      ]
     },
     "execution_count": 150,
     "metadata": {},
     "output_type": "execute_result"
    },
    {
     "data": {
      "image/png": "[encoded data removed]",
      "text/plain": [
       "<Figure size 720x360 with 1 Axes>"
      ]
     },
     "metadata": {
      "needs_background": "light"
     },
     "output_type": "display_data"
    },
    {
     "name": "stderr",
     "output_type": "stream",
     "text": [
      "\n",
      " 50%|███████████████████████████████████████▏                                       | 745/1500 [00:37<00:26, 28.49it/s]"
     ]
    }
   ],
   "source": [
    "plt.figure(figsize=(10, 5))\n",
    "plt.plot(abs(x[0]))"
   ]
  },
  {
   "cell_type": "code",
   "execution_count": 151,
   "metadata": {},
   "outputs": [],
   "source": [
    "B = np.block([[0*np.eye(100), np.eye(100)], [np.eye(100), 0*np.eye(100)]])"
   ]
  },
  {
   "cell_type": "code",
   "execution_count": 152,
   "metadata": {},
   "outputs": [],
   "source": [
    "def f(x, eps=0.9):\n",
    "    x = x.reshape(-1, 1)\n",
    "    return np.linalg.norm(A@x - abs(b))**2 + eps*x.T@B@x"
   ]
  },
  {
   "cell_type": "code",
   "execution_count": null,
   "metadata": {},
   "outputs": [],
   "source": []
  },
  {
   "cell_type": "code",
   "execution_count": 153,
   "metadata": {
    "scrolled": true
   },
   "outputs": [
    {
     "name": "stderr",
     "output_type": "stream",
     "text": [
      "\n",
      "\n",
      "  0%|                                                                                          | 0/100 [00:00<?, ?it/s]\n",
      "\n",
      "  1%|▊                                                                                 | 1/100 [00:01<01:58,  1.20s/it]\n",
      "\n",
      "  2%|█▋                                                                                | 2/100 [00:02<01:55,  1.18s/it]\n",
      "\n",
      "  3%|██▍                                                                               | 3/100 [00:03<01:55,  1.19s/it]\n",
      "\n",
      "  4%|███▎                                                                              | 4/100 [00:04<01:52,  1.17s/it]\n",
      "\n",
      "  5%|████                                                                              | 5/100 [00:05<01:54,  1.21s/it]\n",
      "\n",
      "  6%|████▉                                                                             | 6/100 [00:07<01:55,  1.23s/it]\n",
      "\n",
      "  7%|█████▋                                                                            | 7/100 [00:08<01:52,  1.21s/it]\n",
      "\n",
      "  8%|██████▌                                                                           | 8/100 [00:09<01:50,  1.20s/it]\n",
      "\n",
      "  9%|███████▍                                                                          | 9/100 [00:10<01:47,  1.19s/it]\n",
      "\n",
      " 10%|████████                                                                         | 10/100 [00:11<01:48,  1.20s/it]\n",
      "\n",
      " 11%|████████▉                                                                        | 11/100 [00:13<01:47,  1.21s/it]\n",
      "\n",
      " 12%|█████████▋                                                                       | 12/100 [00:14<01:46,  1.21s/it]\n",
      "\n",
      " 13%|██████████▌                                                                      | 13/100 [00:15<01:44,  1.20s/it]\n",
      "\n",
      " 14%|███████████▎                                                                     | 14/100 [00:16<01:44,  1.21s/it]\n",
      "\n",
      " 15%|████████████▏                                                                    | 15/100 [00:18<01:42,  1.21s/it]\n",
      "\n",
      " 16%|████████████▉                                                                    | 16/100 [00:19<01:42,  1.22s/it]\n",
      "\n",
      " 17%|█████████████▊                                                                   | 17/100 [00:20<01:43,  1.25s/it]\n",
      "\n",
      " 18%|██████████████▌                                                                  | 18/100 [00:21<01:40,  1.22s/it]\n",
      "\n",
      " 19%|███████████████▍                                                                 | 19/100 [00:22<01:39,  1.22s/it]\n",
      "\n",
      " 20%|████████████████▏                                                                | 20/100 [00:24<01:40,  1.26s/it]\n",
      "\n",
      " 21%|█████████████████                                                                | 21/100 [00:25<01:39,  1.26s/it]\n",
      "\n",
      " 22%|█████████████████▊                                                               | 22/100 [00:26<01:39,  1.27s/it]\n",
      "\n",
      " 23%|██████████████████▋                                                              | 23/100 [00:28<01:34,  1.23s/it]\n",
      "\n",
      " 24%|███████████████████▍                                                             | 24/100 [00:29<01:35,  1.25s/it]\n",
      "\n",
      " 25%|████████████████████▎                                                            | 25/100 [00:30<01:30,  1.21s/it]\n",
      "\n",
      " 26%|█████████████████████                                                            | 26/100 [00:31<01:27,  1.18s/it]\n",
      "\n",
      " 27%|█████████████████████▊                                                           | 27/100 [00:32<01:27,  1.20s/it]\n",
      "\n",
      " 28%|██████████████████████▋                                                          | 28/100 [00:34<01:29,  1.25s/it]\n",
      "\n",
      " 29%|███████████████████████▍                                                         | 29/100 [00:35<01:27,  1.24s/it]\n",
      "\n",
      " 30%|████████████████████████▎                                                        | 30/100 [00:36<01:27,  1.24s/it]\n",
      "\n",
      " 31%|█████████████████████████                                                        | 31/100 [00:37<01:27,  1.27s/it]\n",
      "\n",
      " 32%|█████████████████████████▉                                                       | 32/100 [00:39<01:27,  1.28s/it]\n",
      "\n",
      " 33%|██████████████████████████▋                                                      | 33/100 [00:40<01:26,  1.29s/it]\n",
      "\n",
      " 34%|███████████████████████████▌                                                     | 34/100 [00:42<01:34,  1.43s/it]\n",
      "\n",
      " 35%|████████████████████████████▎                                                    | 35/100 [00:43<01:34,  1.46s/it]\n",
      "\n",
      " 36%|█████████████████████████████▏                                                   | 36/100 [00:45<01:31,  1.44s/it]\n",
      "\n",
      " 37%|█████████████████████████████▉                                                   | 37/100 [00:46<01:32,  1.46s/it]\n",
      "\n",
      " 38%|██████████████████████████████▊                                                  | 38/100 [00:48<01:29,  1.44s/it]\n",
      "\n",
      " 39%|███████████████████████████████▌                                                 | 39/100 [00:49<01:25,  1.40s/it]\n",
      "\n",
      " 40%|████████████████████████████████▍                                                | 40/100 [00:50<01:20,  1.34s/it]\n",
      "\n",
      " 41%|█████████████████████████████████▏                                               | 41/100 [00:51<01:15,  1.28s/it]\n",
      "\n",
      " 42%|██████████████████████████████████                                               | 42/100 [00:53<01:14,  1.28s/it]\n",
      "\n",
      " 43%|██████████████████████████████████▊                                              | 43/100 [00:54<01:10,  1.24s/it]\n",
      "\n",
      " 44%|███████████████████████████████████▋                                             | 44/100 [00:55<01:07,  1.21s/it]\n",
      "\n",
      " 45%|████████████████████████████████████▍                                            | 45/100 [00:56<01:05,  1.20s/it]\n",
      "\n",
      " 46%|█████████████████████████████████████▎                                           | 46/100 [00:57<01:04,  1.19s/it]\n",
      "\n",
      " 47%|██████████████████████████████████████                                           | 47/100 [00:58<01:01,  1.16s/it]\n",
      "\n",
      " 48%|██████████████████████████████████████▉                                          | 48/100 [00:59<01:00,  1.16s/it]\n",
      "\n",
      " 49%|███████████████████████████████████████▋                                         | 49/100 [01:01<00:58,  1.15s/it]\n",
      "\n",
      " 50%|████████████████████████████████████████▌                                        | 50/100 [01:02<00:57,  1.15s/it]\n",
      "\n",
      " 51%|█████████████████████████████████████████▎                                       | 51/100 [01:03<00:55,  1.13s/it]\n",
      "\n",
      " 52%|██████████████████████████████████████████                                       | 52/100 [01:04<00:54,  1.13s/it]\n",
      "\n",
      " 53%|██████████████████████████████████████████▉                                      | 53/100 [01:05<00:53,  1.13s/it]\n",
      "\n",
      " 54%|███████████████████████████████████████████▋                                     | 54/100 [01:06<00:51,  1.13s/it]\n",
      "\n",
      " 55%|████████████████████████████████████████████▌                                    | 55/100 [01:07<00:51,  1.14s/it]\n",
      "\n",
      " 56%|█████████████████████████████████████████████▎                                   | 56/100 [01:08<00:49,  1.14s/it]\n",
      "\n",
      " 57%|██████████████████████████████████████████████▏                                  | 57/100 [01:10<00:48,  1.13s/it]\n",
      "\n",
      " 58%|██████████████████████████████████████████████▉                                  | 58/100 [01:11<00:47,  1.13s/it]\n",
      "\n",
      " 59%|███████████████████████████████████████████████▊                                 | 59/100 [01:12<00:46,  1.12s/it]\n",
      "\n",
      " 60%|████████████████████████████████████████████████▌                                | 60/100 [01:13<00:44,  1.12s/it]\n",
      "\n",
      " 61%|█████████████████████████████████████████████████▍                               | 61/100 [01:14<00:43,  1.12s/it]\n",
      "\n",
      " 62%|██████████████████████████████████████████████████▏                              | 62/100 [01:15<00:42,  1.13s/it]\n",
      "\n",
      " 63%|███████████████████████████████████████████████████                              | 63/100 [01:16<00:41,  1.12s/it]\n",
      "\n",
      " 64%|███████████████████████████████████████████████████▊                             | 64/100 [01:17<00:40,  1.13s/it]\n",
      "\n",
      " 65%|████████████████████████████████████████████████████▋                            | 65/100 [01:19<00:39,  1.14s/it]\n",
      "\n",
      " 66%|█████████████████████████████████████████████████████▍                           | 66/100 [01:20<00:38,  1.13s/it]\n",
      "\n"
     ]
    },
    {
     "name": "stderr",
     "output_type": "stream",
     "text": [
      " 67%|██████████████████████████████████████████████████████▎                          | 67/100 [01:21<00:37,  1.13s/it]\n",
      "\n",
      " 68%|███████████████████████████████████████████████████████                          | 68/100 [01:22<00:36,  1.14s/it]\n",
      "\n",
      " 69%|███████████████████████████████████████████████████████▉                         | 69/100 [01:23<00:35,  1.13s/it]\n",
      "\n",
      " 70%|████████████████████████████████████████████████████████▋                        | 70/100 [01:24<00:34,  1.14s/it]\n",
      "\n",
      " 71%|█████████████████████████████████████████████████████████▌                       | 71/100 [01:25<00:32,  1.13s/it]\n",
      "\n",
      " 72%|██████████████████████████████████████████████████████████▎                      | 72/100 [01:27<00:31,  1.13s/it]\n",
      "\n",
      " 73%|███████████████████████████████████████████████████████████▏                     | 73/100 [01:28<00:30,  1.13s/it]\n",
      "\n",
      " 74%|███████████████████████████████████████████████████████████▉                     | 74/100 [01:28<00:25,  1.04it/s]\n",
      "\n",
      " 75%|████████████████████████████████████████████████████████████▊                    | 75/100 [01:29<00:25,  1.01s/it]\n",
      "\n",
      " 76%|█████████████████████████████████████████████████████████████▌                   | 76/100 [01:30<00:25,  1.04s/it]\n",
      "\n",
      " 77%|██████████████████████████████████████████████████████████████▎                  | 77/100 [01:32<00:24,  1.06s/it]\n",
      "\n",
      " 78%|███████████████████████████████████████████████████████████████▏                 | 78/100 [01:33<00:23,  1.08s/it]\n",
      "\n",
      " 79%|███████████████████████████████████████████████████████████████▉                 | 79/100 [01:34<00:22,  1.08s/it]\n",
      "\n",
      " 80%|████████████████████████████████████████████████████████████████▊                | 80/100 [01:35<00:21,  1.09s/it]\n",
      "\n",
      " 81%|█████████████████████████████████████████████████████████████████▌               | 81/100 [01:36<00:20,  1.10s/it]\n",
      "\n",
      " 82%|██████████████████████████████████████████████████████████████████▍              | 82/100 [01:37<00:19,  1.09s/it]\n",
      "\n",
      " 83%|███████████████████████████████████████████████████████████████████▏             | 83/100 [01:38<00:18,  1.09s/it]\n",
      "\n",
      " 84%|████████████████████████████████████████████████████████████████████             | 84/100 [01:39<00:17,  1.11s/it]\n",
      "\n",
      " 85%|████████████████████████████████████████████████████████████████████▊            | 85/100 [01:40<00:16,  1.12s/it]\n",
      "\n",
      " 86%|█████████████████████████████████████████████████████████████████████▋           | 86/100 [01:42<00:15,  1.12s/it]\n",
      "\n",
      " 87%|██████████████████████████████████████████████████████████████████████▍          | 87/100 [01:43<00:14,  1.11s/it]\n",
      "\n",
      " 88%|███████████████████████████████████████████████████████████████████████▎         | 88/100 [01:44<00:13,  1.11s/it]\n",
      "\n",
      " 89%|████████████████████████████████████████████████████████████████████████         | 89/100 [01:45<00:12,  1.11s/it]\n",
      "\n",
      " 90%|████████████████████████████████████████████████████████████████████████▉        | 90/100 [01:46<00:11,  1.12s/it]\n",
      "\n",
      " 91%|█████████████████████████████████████████████████████████████████████████▋       | 91/100 [01:47<00:09,  1.11s/it]\n",
      "\n",
      " 92%|██████████████████████████████████████████████████████████████████████████▌      | 92/100 [01:48<00:08,  1.10s/it]\n",
      "\n",
      " 93%|███████████████████████████████████████████████████████████████████████████▎     | 93/100 [01:49<00:07,  1.12s/it]\n",
      "\n",
      " 94%|████████████████████████████████████████████████████████████████████████████▏    | 94/100 [01:50<00:06,  1.11s/it]\n",
      "\n",
      " 95%|████████████████████████████████████████████████████████████████████████████▉    | 95/100 [01:52<00:05,  1.11s/it]\n",
      "\n",
      " 96%|█████████████████████████████████████████████████████████████████████████████▊   | 96/100 [01:53<00:04,  1.12s/it]\n",
      "\n",
      " 97%|██████████████████████████████████████████████████████████████████████████████▌  | 97/100 [01:54<00:03,  1.12s/it]\n",
      "\n",
      " 98%|███████████████████████████████████████████████████████████████████████████████▍ | 98/100 [01:55<00:02,  1.12s/it]\n",
      "\n",
      " 99%|████████████████████████████████████████████████████████████████████████████████▏| 99/100 [01:56<00:01,  1.12s/it]\n",
      "\n",
      "100%|████████████████████████████████████████████████████████████████████████████████| 100/100 [01:57<00:00,  1.12s/it]"
     ]
    }
   ],
   "source": [
    "temp = []\n",
    "temp_x = []\n",
    "for i in tqdm(np.arange(0, 10, 0.1)):\n",
    "    res = scipy.optimize.minimize(f, x0=np.ones(antenna.N * antenna.n_currents), args=(i, ), bounds=[(0, np.inf) for _ in range(antenna.N * antenna.n_currents)])\n",
    "    temp.append(*res.fun)\n",
    "    temp_x.append(res.x)"
   ]
  },
  {
   "cell_type": "code",
   "execution_count": 171,
   "metadata": {},
   "outputs": [
    {
     "data": {
      "text/plain": [
       "0.01069004149881636"
      ]
     },
     "execution_count": 171,
     "metadata": {},
     "output_type": "execute_result"
    }
   ],
   "source": [
    "np.linalg.norm(A@(res.x).reshape(-1, 1) - b)**2"
   ]
  },
  {
   "cell_type": "code",
   "execution_count": 155,
   "metadata": {
    "scrolled": true
   },
   "outputs": [
    {
     "data": {
      "image/png": "[encoded data removed]",
      "text/plain": [
       "<Figure size 720x360 with 1 Axes>"
      ]
     },
     "metadata": {
      "needs_background": "light"
     },
     "output_type": "display_data"
    }
   ],
   "source": [
    "plt.figure(figsize=(10, 5))\n",
    "plt.plot([np.linalg.norm(x) for x in temp_x], 'k')\n",
    "plt.plot(temp, 'r')\n",
    "# plt.ylim([0, 10])\n",
    "plt.grid(True)"
   ]
  },
  {
   "cell_type": "code",
   "execution_count": 156,
   "metadata": {},
   "outputs": [
    {
     "data": {
      "text/plain": [
       "<StemContainer object of 3 artists>"
      ]
     },
     "execution_count": 156,
     "metadata": {},
     "output_type": "execute_result"
    },
    {
     "data": {
      "image/png": "[encoded data removed]",
      "text/plain": [
       "<Figure size 720x360 with 1 Axes>"
      ]
     },
     "metadata": {
      "needs_background": "light"
     },
     "output_type": "display_data"
    },
    {
     "data": {
      "image/png": "[encoded data removed]",
      "text/plain": [
       "<Figure size 720x360 with 1 Axes>"
      ]
     },
     "metadata": {
      "needs_background": "light"
     },
     "output_type": "display_data"
    }
   ],
   "source": [
    "plt.figure(figsize=(10, 5))\n",
    "plt.stem(res.x)\n",
    "plt.figure(figsize=(10, 5))\n",
    "plt.stem(I)"
   ]
  },
  {
   "cell_type": "code",
   "execution_count": 84,
   "metadata": {},
   "outputs": [],
   "source": [
    "I = [np.array([[0.        ],\n",
    "        [0.08657657],\n",
    "        [0.        ],\n",
    "        [0.        ],\n",
    "        [0.39541029],\n",
    "        [0.        ],\n",
    "        [0.45197912],\n",
    "        [0.61312728],\n",
    "        [0.58195155],\n",
    "        [0.40571744]]), np.array([[0.75519266],\n",
    "        [0.        ],\n",
    "        [0.76062757],\n",
    "        [0.53967791],\n",
    "        [0.        ],\n",
    "        [0.53150561],\n",
    "        [0.        ],\n",
    "        [0.        ],\n",
    "        [0.        ],\n",
    "        [0.        ]])]"
   ]
  },
  {
   "cell_type": "code",
   "execution_count": 109,
   "metadata": {},
   "outputs": [
    {
     "data": {
      "text/plain": [
       "array([[0.        ],\n",
       "       [0.08657657],\n",
       "       [0.        ],\n",
       "       [0.        ],\n",
       "       [0.39541029],\n",
       "       [0.        ],\n",
       "       [0.45197912],\n",
       "       [0.61312728],\n",
       "       [0.58195155],\n",
       "       [0.40571744],\n",
       "       [0.75519266],\n",
       "       [0.        ],\n",
       "       [0.76062757],\n",
       "       [0.53967791],\n",
       "       [0.        ],\n",
       "       [0.53150561],\n",
       "       [0.        ],\n",
       "       [0.        ],\n",
       "       [0.        ],\n",
       "       [0.        ]])"
      ]
     },
     "execution_count": 109,
     "metadata": {},
     "output_type": "execute_result"
    }
   ],
   "source": [
    "I"
   ]
  },
  {
   "cell_type": "code",
   "execution_count": 110,
   "metadata": {},
   "outputs": [
    {
     "name": "stderr",
     "output_type": "stream",
     "text": [
      "C:\\Users\\Sergey\\Anaconda3\\lib\\site-packages\\ipykernel_launcher.py:1: RuntimeWarning: divide by zero encountered in log\n",
      "  \"\"\"Entry point for launching an IPython kernel.\n"
     ]
    },
    {
     "data": {
      "text/plain": [
       "20.187619007850333"
      ]
     },
     "execution_count": 110,
     "metadata": {},
     "output_type": "execute_result"
    }
   ],
   "source": [
    "antenna.objective(np.log(I_))"
   ]
  },
  {
   "cell_type": "code",
   "execution_count": 157,
   "metadata": {},
   "outputs": [],
   "source": [
    "antenna.I = np.split(res.x, 2)"
   ]
  },
  {
   "cell_type": "code",
   "execution_count": 162,
   "metadata": {
    "scrolled": true
   },
   "outputs": [
    {
     "data": {
      "text/plain": [
       "[<matplotlib.lines.Line2D at 0x1a4bdc8f160>]"
      ]
     },
     "execution_count": 162,
     "metadata": {},
     "output_type": "execute_result"
    },
    {
     "data": {
      "image/png": "[encoded data removed]",
      "text/plain": [
       "<Figure size 1440x720 with 1 Axes>"
      ]
     },
     "metadata": {
      "needs_background": "light"
     },
     "output_type": "display_data"
    }
   ],
   "source": [
    "plt.figure(figsize=(20, 10))\n",
    "plt.plot(abs(antenna.afs[0]@antenna.I[0]))\n",
    "plt.plot(abs(antenna.beams[0]))"
   ]
  },
  {
   "cell_type": "code",
   "execution_count": null,
   "metadata": {},
   "outputs": [],
   "source": []
  },
  {
   "cell_type": "code",
   "execution_count": null,
   "metadata": {},
   "outputs": [],
   "source": []
  }
 ],
 "metadata": {
  "kernelspec": {
   "display_name": "Python 3",
   "language": "python",
   "name": "python3"
  },
  "language_info": {
   "codemirror_mode": {
    "name": "ipython",
    "version": 3
   },
   "file_extension": ".py",
   "mimetype": "text/x-python",
   "name": "python",
   "nbconvert_exporter": "python",
   "pygments_lexer": "ipython3",
   "version": "3.7.3"
  }
 },
 "nbformat": 4,
 "nbformat_minor": 2
}
