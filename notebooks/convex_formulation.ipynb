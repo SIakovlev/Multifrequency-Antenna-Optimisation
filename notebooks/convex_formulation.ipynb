{
 "cells": [
  {
   "cell_type": "code",
   "execution_count": 1,
   "metadata": {},
   "outputs": [],
   "source": [
    "import sys\n",
    "sys.path.append('../src/')\n",
    "import numpy as np\n",
    "import matplotlib.pyplot as plt\n",
    "import matplotlib.colors as colors\n",
    "import json\n",
    "import scipy\n",
    "from antenna import Antenna\n",
    "import itertools\n",
    "from tqdm import tqdm"
   ]
  },
  {
   "cell_type": "code",
   "execution_count": 2,
   "metadata": {},
   "outputs": [],
   "source": [
    "with open(\"../config.json\", 'r') as cfg:\n",
    "    params = json.load(cfg)\n",
    "\n",
    "antenna_params = params[\"antenna_params\"]\n",
    "opt_params = params[\"optimisation_params\"]"
   ]
  },
  {
   "cell_type": "code",
   "execution_count": 3,
   "metadata": {},
   "outputs": [],
   "source": [
    "antenna_params['N'] = 12\n",
    "antenna_params[\"wavelengths\"]=[1, 2]"
   ]
  },
  {
   "cell_type": "code",
   "execution_count": 4,
   "metadata": {},
   "outputs": [],
   "source": [
    "antenna = Antenna(antenna_params)\n",
    "antenna.set_objective(weights=[1.0, 1.0])\n",
    "antenna.set_jacobian(weights=[1.0, 1.0])\n",
    "antenna.set_hessian(weights=[1.0, 1.0])"
   ]
  },
  {
   "cell_type": "code",
   "execution_count": 50,
   "metadata": {},
   "outputs": [],
   "source": [
    "B = np.block([[0*np.eye(2*(antenna.N - 1)), np.eye(2*(antenna.N - 1))], \n",
    "              [np.eye(2*(antenna.N - 1))[::-1], 0*np.eye(2*(antenna.N - 1))]])"
   ]
  },
  {
   "cell_type": "code",
   "execution_count": 77,
   "metadata": {},
   "outputs": [],
   "source": [
    "def A_matrix(N, k, d, phi, phi0):\n",
    "    M = phi.shape[0]\n",
    "    temp = []\n",
    "    for i in range(M):\n",
    "        temp_j = []\n",
    "        for j in range(N - 1):\n",
    "            temp_ij = np.exp(1j * k * j * d * np.cos(phi[i])) - np.exp(1j * k * (N - 1) * d * (np.cos(phi[i]) - np.cos(phi0)))*np.exp(1j * k * j * d * np.cos(phi0)) \n",
    "            temp_j.append(np.array([[np.real(temp_ij), -np.imag(temp_ij)], [np.imag(temp_ij), np.real(temp_ij)]]))\n",
    "        temp.append(temp_j)\n",
    "    A = np.block(temp)\n",
    "    return A\n",
    "\n",
    "def b_vector(N, k, d, phi, phi0):\n",
    "    M = phi.shape[0]\n",
    "    temp = []\n",
    "    for i in range(M):\n",
    "        temp_i = np.exp(1j * k * (N - 1) * d * (np.cos(phi[i]) - np.cos(phi0)))\n",
    "        temp.append([np.real(temp_i), np.imag(temp_i)])\n",
    "    b = np.block(temp).reshape(-1, 1)\n",
    "    return b"
   ]
  },
  {
   "cell_type": "code",
   "execution_count": 78,
   "metadata": {},
   "outputs": [],
   "source": [
    "A1 = A_matrix(antenna.N, 2*np.pi/antenna.lambdas[0], \n",
    "                           antenna.d, \n",
    "                           np.radians(np.arange(0, 180 + antenna.beam_resolution, antenna.beam_resolution)), \n",
    "                           np.pi/2)\n",
    "\n",
    "b1 = b_vector(antenna.N, 2*np.pi/antenna.lambdas[0], \n",
    "             antenna.d, \n",
    "             np.radians(np.arange(0, 180 + antenna.beam_resolution, antenna.beam_resolution)), \n",
    "             np.pi/2)\n",
    "\n",
    "A2 = A_matrix(antenna.N, 2*np.pi/antenna.lambdas[1], \n",
    "                           antenna.d, \n",
    "                           np.radians(np.arange(0, 180 + antenna.beam_resolution, antenna.beam_resolution)), \n",
    "                           np.pi/2)\n",
    "\n",
    "b2 = b_vector(antenna.N, 2*np.pi/antenna.lambdas[1], \n",
    "             antenna.d, \n",
    "             np.radians(np.arange(0, 180 + antenna.beam_resolution, antenna.beam_resolution)), \n",
    "             np.pi/2)"
   ]
  },
  {
   "cell_type": "code",
   "execution_count": 80,
   "metadata": {},
   "outputs": [],
   "source": [
    "A = scipy.linalg.block_diag(*[A1, A2])\n",
    "b = np.concatenate((b1, b2))"
   ]
  },
  {
   "cell_type": "code",
   "execution_count": 83,
   "metadata": {},
   "outputs": [
    {
     "data": {
      "text/plain": [
       "(724, 44)"
      ]
     },
     "execution_count": 83,
     "metadata": {},
     "output_type": "execute_result"
    }
   ],
   "source": [
    "A.shape"
   ]
  },
  {
   "cell_type": "code",
   "execution_count": 52,
   "metadata": {},
   "outputs": [],
   "source": [
    "def f(x):\n",
    "    return x.T@B@x"
   ]
  },
  {
   "cell_type": "code",
   "execution_count": 103,
   "metadata": {},
   "outputs": [],
   "source": [
    "def cons(x):\n",
    "    return 10 - np.linalg.norm(A@x + b, np.inf)"
   ]
  },
  {
   "cell_type": "code",
   "execution_count": 104,
   "metadata": {},
   "outputs": [],
   "source": [
    "cons1 = {'type':'ineq', 'fun': cons}\n",
    "cons2 = {'type':'ineq', 'fun': lambda x: x}"
   ]
  },
  {
   "cell_type": "code",
   "execution_count": 105,
   "metadata": {},
   "outputs": [],
   "source": [
    "res = scipy.optimize.minimize(f, \n",
    "                              x0=np.ones((antenna.N - 1) * antenna.n_currents * 2), \n",
    "                              constraints=[cons1, cons2])"
   ]
  },
  {
   "cell_type": "code",
   "execution_count": 107,
   "metadata": {},
   "outputs": [
    {
     "data": {
      "text/plain": [
       "array([-1.96637300e-14, -3.00553607e-14,  6.45542537e-14,  1.46272499e-14,\n",
       "        3.55257060e-14,  4.56551212e-15,  5.46022771e-14,  1.97578736e-14,\n",
       "        3.22736886e-14,  2.08081305e-15,  2.98420315e-14,  2.18361403e-14,\n",
       "        3.55355322e-14,  2.77360998e-14,  2.11893078e-14,  3.63554290e-14,\n",
       "        4.95938819e-14,  1.44999724e-14,  2.00928070e-14,  2.16824414e-14,\n",
       "        1.98390766e-14, -2.46252956e-16,  3.86115913e-14,  4.66220806e-16,\n",
       "       -1.32206626e-14,  8.81824784e-15,  3.59366879e-14,  3.63658661e-14,\n",
       "        2.30203722e-14,  2.91935420e-15,  1.97317304e-14,  4.44136479e-14,\n",
       "        5.92669377e-14,  4.17047775e-14,  2.61764611e-14,  3.77867555e-14,\n",
       "        2.63328005e-14,  2.91235070e-14,  3.75586343e-14,  6.15901668e-14,\n",
       "        1.74325914e-14,  3.06538860e-14,  1.80083558e-14,  3.02145592e-14])"
      ]
     },
     "execution_count": 107,
     "metadata": {},
     "output_type": "execute_result"
    }
   ],
   "source": [
    "res.x"
   ]
  },
  {
   "cell_type": "code",
   "execution_count": null,
   "metadata": {},
   "outputs": [],
   "source": []
  }
 ],
 "metadata": {
  "kernelspec": {
   "display_name": "Python 3",
   "language": "python",
   "name": "python3"
  },
  "language_info": {
   "codemirror_mode": {
    "name": "ipython",
    "version": 3
   },
   "file_extension": ".py",
   "mimetype": "text/x-python",
   "name": "python",
   "nbconvert_exporter": "python",
   "pygments_lexer": "ipython3",
   "version": "3.6.8"
  }
 },
 "nbformat": 4,
 "nbformat_minor": 2
}
